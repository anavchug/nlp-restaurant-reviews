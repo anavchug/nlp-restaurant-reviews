{
  "nbformat": 4,
  "nbformat_minor": 0,
  "metadata": {
    "colab": {
      "provenance": [],
      "include_colab_link": true
    },
    "kernelspec": {
      "name": "python3",
      "display_name": "Python 3"
    }
  },
  "cells": [
    {
      "cell_type": "markdown",
      "metadata": {
        "id": "view-in-github",
        "colab_type": "text"
      },
      "source": [
        "<a href=\"https://colab.research.google.com/github/anavchug/nlp-restaurant-reviews/blob/main/NLP%20On%20Restaurant%20Reviews.ipynb\" target=\"_parent\"><img src=\"https://colab.research.google.com/assets/colab-badge.svg\" alt=\"Open In Colab\"/></a>"
      ]
    },
    {
      "cell_type": "markdown",
      "metadata": {
        "id": "VwK5-9FIB-lu"
      },
      "source": [
        "# Natural Language Processing"
      ]
    },
    {
      "cell_type": "markdown",
      "metadata": {
        "id": "X1kiO9kACE6s"
      },
      "source": [
        "## Importing the libraries"
      ]
    },
    {
      "cell_type": "code",
      "metadata": {
        "id": "7QG7sxmoCIvN"
      },
      "source": [
        "import numpy as np\n",
        "import matplotlib.pyplot as plt\n",
        "import pandas as pd"
      ],
      "execution_count": null,
      "outputs": []
    },
    {
      "cell_type": "markdown",
      "metadata": {
        "id": "wTfaCIzdCLPA"
      },
      "source": [
        "## Importing the dataset"
      ]
    },
    {
      "cell_type": "code",
      "source": [
        "dataset = pd.read_csv('Restaurant_Reviews.tsv', delimiter = '\\t', quoting = 3)"
      ],
      "metadata": {
        "id": "pWk7VGC8Ldem"
      },
      "execution_count": null,
      "outputs": []
    },
    {
      "cell_type": "markdown",
      "metadata": {
        "id": "Qekztq71CixT"
      },
      "source": [
        "## Cleaning the texts"
      ]
    },
    {
      "cell_type": "code",
      "source": [
        "import re\n",
        "import nltk\n",
        "nltk.download('stopwords')\n",
        "from nltk.corpus import stopwords\n",
        "from nltk.stem.porter import PorterStemmer\n",
        "corpus = [] #creating an empty list which will contain all our different reviews from our dataset but all cleaned\n",
        "for i in range(0, 1000):\n",
        "  #step 1 cleaning- removing punctuations\n",
        "  #the sub function replaces anything in a string by anything else you want. so basically we will replace all the\n",
        "  # punctuations by a space. The hat ^ means not in CS and Math. so we are saying that we want to replace anything that is not a letter\n",
        "  # from a-z or A-Z. The ' ' means a space. dataset['Review'][i] means we want to make these changes in the first column whose name is Review\n",
        "  review = re.sub('[^a-zA-Z]', ' ', dataset['Review'][i])\n",
        "\n",
        "  #step 2 cleaning- making all letters to lowercase\n",
        "  review = review.lower() #this will update the review variable with lowercase letters\n",
        "\n",
        "  #prep for step 3 i.e stemming. We need to split the elements of the review in its different words so that we can apply stemming to each\n",
        "  # of these words by simplifying them by their root\n",
        "  review = review.split()\n",
        "\n",
        "  #step 3 cleaning- stemming , eg loved will be replaced by love\n",
        "  ps = PorterStemmer()\n",
        "  all_stopwords= stopwords.words('english')\n",
        "  all_stopwords.remove('not')\n",
        "  # now if the word of the review we are dealing with right now in this for loop is not in the set of all the english stopwords (like a, the),\n",
        "  # then we will consider it and apply stemming to it. However if the word is in the stopwords, then we won't include it in this for loop, and\n",
        "  # hence won't apply stemming to it. and so it won't be in the future sparse matrix\n",
        "  review = [ps.stem(word) for word in review if not word in set( all_stopwords)]\n",
        "  # now we can join the words back together to get the original format that was a string\n",
        "  review = ' '.join(review)  #' '.join means each word would have a space after it\n",
        "  corpus.append(review) # appending the cleaned review in our corpus list\n",
        ""
      ],
      "metadata": {
        "colab": {
          "base_uri": "https://localhost:8080/"
        },
        "id": "kqpqhil2OrI9",
        "outputId": "9722afe8-d2fe-4613-dca8-41d80ec0dc3b"
      },
      "execution_count": null,
      "outputs": [
        {
          "output_type": "stream",
          "name": "stderr",
          "text": [
            "[nltk_data] Downloading package stopwords to /root/nltk_data...\n",
            "[nltk_data]   Unzipping corpora/stopwords.zip.\n"
          ]
        }
      ]
    },
    {
      "cell_type": "code",
      "source": [
        "print(corpus)"
      ],
      "metadata": {
        "id": "e9UoG5xipmVR"
      },
      "execution_count": null,
      "outputs": []
    },
    {
      "cell_type": "markdown",
      "metadata": {
        "id": "CLqmAkANCp1-"
      },
      "source": [
        "## Creating the Bag of Words model"
      ]
    },
    {
      "cell_type": "code",
      "source": [
        "#We will get the cleaned words in our bag of words model by creating a sparse matrix. The rows of the matrix will contain all the different\n",
        "#reviews and the columns will contain all the different words taken from all the different reviews. Each cell will get a 0 or a 1. If the\n",
        "#word of the column is not in the review of the row, then it will get a 0. If the word of the column is in the review of the row,\n",
        "#then it will get a 1.\n",
        "#The process of creating all these columns corresponding to each of the words taken from all the reviews is called Tokenisation.\n",
        "from sklearn.feature_extraction.text import CountVectorizer\n",
        "# parameter- maximum size of the sparse matrix i.e the max no. of columns therefore the max number of words you can\n",
        "# include in the columns of the sparse matrix. This is important because we still have some words in the review that are still not relevant\n",
        "# to predict a review as positive or negative like place, crust, textur etc even if they are not stopwords and we can get rid of them with\n",
        "# this parameter. So the trick is to take the most frequent words such that we won't include words like place or steve in the sparse matrix\n",
        "cv = CountVectorizer(max_features = 1500) # we are taking the 1500 most frequent words\n",
        "X = cv.fit_transform(corpus).toarray() #the fit will take all the words and the transform will fit the words in different columns of the matrix\n",
        "# of features X. also toarray means X must be a 2d array\n",
        "y = dataset.iloc[:, -1].values"
      ],
      "metadata": {
        "id": "Rkz7wXZ_q9BY"
      },
      "execution_count": null,
      "outputs": []
    },
    {
      "cell_type": "code",
      "source": [
        "len(X[0])\n",
        "# this will give us the no. of elements in the first row , therefore the number of columns of X"
      ],
      "metadata": {
        "colab": {
          "base_uri": "https://localhost:8080/"
        },
        "id": "FR7heBucxDGL",
        "outputId": "ead2bb09-f93d-4c53-ad23-d79d217a5d60"
      },
      "execution_count": null,
      "outputs": [
        {
          "output_type": "execute_result",
          "data": {
            "text/plain": [
              "1500"
            ]
          },
          "metadata": {},
          "execution_count": 6
        }
      ]
    },
    {
      "cell_type": "markdown",
      "metadata": {
        "id": "DH_VjgPzC2cd"
      },
      "source": [
        "## Splitting the dataset into the Training set and Test set"
      ]
    },
    {
      "cell_type": "code",
      "source": [
        "from sklearn.model_selection import train_test_split\n",
        "X_train, X_test, y_train, y_test = train_test_split(X, y, test_size = 0.2, random_state = 0)"
      ],
      "metadata": {
        "id": "XCk_LcbPw2Ij"
      },
      "execution_count": null,
      "outputs": []
    },
    {
      "cell_type": "markdown",
      "metadata": {
        "id": "VkIq23vEDIPt"
      },
      "source": [
        "## Training the Naive Bayes model on the Training set"
      ]
    },
    {
      "cell_type": "code",
      "source": [
        "from sklearn.naive_bayes import GaussianNB\n",
        "classifier = GaussianNB()\n",
        "classifier.fit(X_train, y_train)"
      ],
      "metadata": {
        "colab": {
          "base_uri": "https://localhost:8080/"
        },
        "id": "VpS5NGNNy3TL",
        "outputId": "619700c6-f819-41b7-b211-017bfe3768e0"
      },
      "execution_count": null,
      "outputs": [
        {
          "output_type": "execute_result",
          "data": {
            "text/plain": [
              "GaussianNB()"
            ]
          },
          "metadata": {},
          "execution_count": 8
        }
      ]
    },
    {
      "cell_type": "markdown",
      "source": [
        "##Training the Logistic Regression model on the Training set"
      ],
      "metadata": {
        "id": "VbezJhuiQ_Jm"
      }
    },
    {
      "cell_type": "code",
      "source": [
        "from sklearn.linear_model import LogisticRegression\n",
        "classifier = LogisticRegression(random_state = 0)\n",
        "classifier.fit(X_train, y_train)"
      ],
      "metadata": {
        "colab": {
          "base_uri": "https://localhost:8080/"
        },
        "id": "b7nNFYEkRF2_",
        "outputId": "b6adb0f2-53a1-4998-c1c4-610900d864cb"
      },
      "execution_count": null,
      "outputs": [
        {
          "output_type": "execute_result",
          "data": {
            "text/plain": [
              "LogisticRegression(random_state=0)"
            ]
          },
          "metadata": {},
          "execution_count": 8
        }
      ]
    },
    {
      "cell_type": "markdown",
      "source": [
        "##Training the K-NN model on the Training set"
      ],
      "metadata": {
        "id": "5Gob3Sw3RuLl"
      }
    },
    {
      "cell_type": "code",
      "source": [
        "from sklearn.neighbors import KNeighborsClassifier\n",
        "classifier = KNeighborsClassifier(n_neighbors = 5, metric = 'minkowski', p = 2)\n",
        "classifier.fit(X_train, y_train)"
      ],
      "metadata": {
        "colab": {
          "base_uri": "https://localhost:8080/"
        },
        "id": "IK-jcyzYRvg8",
        "outputId": "db541385-7f2a-4369-feb3-eabc493d99c5"
      },
      "execution_count": null,
      "outputs": [
        {
          "output_type": "execute_result",
          "data": {
            "text/plain": [
              "KNeighborsClassifier()"
            ]
          },
          "metadata": {},
          "execution_count": 8
        }
      ]
    },
    {
      "cell_type": "markdown",
      "source": [
        "##Training the SVM model on the Training set"
      ],
      "metadata": {
        "id": "1l-6rnh0RzOk"
      }
    },
    {
      "cell_type": "code",
      "source": [
        "from sklearn.svm import SVC\n",
        "classifier = SVC(kernel = 'linear', random_state = 0)\n",
        "classifier.fit(X_train, y_train)"
      ],
      "metadata": {
        "colab": {
          "base_uri": "https://localhost:8080/"
        },
        "id": "sBXxo1DfR20W",
        "outputId": "25d014ff-649a-4142-afde-172ee1cc1d6d"
      },
      "execution_count": null,
      "outputs": [
        {
          "output_type": "execute_result",
          "data": {
            "text/plain": [
              "SVC(kernel='linear', random_state=0)"
            ]
          },
          "metadata": {},
          "execution_count": 8
        }
      ]
    },
    {
      "cell_type": "markdown",
      "source": [
        "##Training the Kernel SVM model on the Training set"
      ],
      "metadata": {
        "id": "0vz9sc33SlGi"
      }
    },
    {
      "cell_type": "code",
      "source": [
        "from sklearn.svm import SVC\n",
        "classifier = SVC(kernel = 'rbf', random_state = 0)\n",
        "classifier.fit(X_train, y_train)"
      ],
      "metadata": {
        "colab": {
          "base_uri": "https://localhost:8080/"
        },
        "id": "IvmIl_zySl0d",
        "outputId": "e82f44cc-ef51-4762-b7a8-3f44634bbddd"
      },
      "execution_count": null,
      "outputs": [
        {
          "output_type": "execute_result",
          "data": {
            "text/plain": [
              "SVC(random_state=0)"
            ]
          },
          "metadata": {},
          "execution_count": 8
        }
      ]
    },
    {
      "cell_type": "markdown",
      "source": [
        "##Training the Decision Tree Classification model on the Training set"
      ],
      "metadata": {
        "id": "jINYy-blR4_l"
      }
    },
    {
      "cell_type": "code",
      "source": [
        "from sklearn.tree import DecisionTreeClassifier\n",
        "classifier = DecisionTreeClassifier(criterion = 'entropy', random_state = 0)\n",
        "classifier.fit(X_train, y_train)"
      ],
      "metadata": {
        "colab": {
          "base_uri": "https://localhost:8080/"
        },
        "id": "exTmYbL2SM17",
        "outputId": "3eee3db7-d783-4b37-9387-1dd834f8780f"
      },
      "execution_count": null,
      "outputs": [
        {
          "output_type": "execute_result",
          "data": {
            "text/plain": [
              "DecisionTreeClassifier(criterion='entropy', random_state=0)"
            ]
          },
          "metadata": {},
          "execution_count": 9
        }
      ]
    },
    {
      "cell_type": "markdown",
      "source": [
        "##Training the Random Forest Classification model on the Training set"
      ],
      "metadata": {
        "id": "GGFDgaTwSPKj"
      }
    },
    {
      "cell_type": "code",
      "source": [
        "from sklearn.ensemble import RandomForestClassifier\n",
        "classifier = RandomForestClassifier(n_estimators = 10, criterion = 'entropy', random_state = 0)\n",
        "classifier.fit(X_train, y_train)"
      ],
      "metadata": {
        "colab": {
          "base_uri": "https://localhost:8080/"
        },
        "id": "XkVFkbnHSU_h",
        "outputId": "a330fad9-9b2d-4f83-cfe2-a125e8c79253"
      },
      "execution_count": null,
      "outputs": [
        {
          "output_type": "execute_result",
          "data": {
            "text/plain": [
              "RandomForestClassifier(criterion='entropy', n_estimators=10, random_state=0)"
            ]
          },
          "metadata": {},
          "execution_count": 8
        }
      ]
    },
    {
      "cell_type": "markdown",
      "metadata": {
        "id": "1JaRM7zXDWUy"
      },
      "source": [
        "## Predicting the Test set results"
      ]
    },
    {
      "cell_type": "code",
      "source": [
        "y_pred = classifier.predict(X_test)\n",
        "print(np.concatenate((y_pred.reshape(len(y_pred),1), y_test.reshape(len(y_test),1)),1))\n",
        "# this displays the vector of predictions and the the vector of real results"
      ],
      "metadata": {
        "id": "X9uwgojhzFMI"
      },
      "execution_count": null,
      "outputs": []
    },
    {
      "cell_type": "markdown",
      "metadata": {
        "id": "xoMltea5Dir1"
      },
      "source": [
        "## Making the Confusion Matrix"
      ]
    },
    {
      "cell_type": "code",
      "source": [
        "from sklearn.metrics import confusion_matrix, accuracy_score, precision_score, recall_score, f1_score\n",
        "cm = confusion_matrix(y_test, y_pred)\n",
        "print(cm)\n",
        "print(accuracy_score(y_test, y_pred))\n",
        "print(precision_score(y_test, y_pred))\n",
        "print(recall_score(y_test, y_pred))\n",
        "print(f1_score(y_test, y_pred))\n",
        "# this is for Naive Bayes\n",
        "# 55 correct predictions of negative reviews,\n",
        "# 91 correct predictions of positive reviews,\n",
        "# 42 incorrect predictions positive reviews,\n",
        "# 12 incorrect predictions of negative reviews,\n"
      ],
      "metadata": {
        "id": "yQUjwNPEzQVz"
      },
      "execution_count": null,
      "outputs": []
    },
    {
      "cell_type": "markdown",
      "source": [
        "##Predicting if a single review is positive or negative"
      ],
      "metadata": {
        "id": "zJee3GUb9iv_"
      }
    },
    {
      "cell_type": "markdown",
      "source": [
        "###Positive review\n",
        "Use our model to predict if the following review:\n",
        "\n",
        "\"I love this restaurant so much\"\n",
        "\n",
        "is positive or negative."
      ],
      "metadata": {
        "id": "75InsHd89ux6"
      }
    },
    {
      "cell_type": "markdown",
      "source": [
        "Solution: We just repeat the same text preprocessing process we did before, but this time with a single review."
      ],
      "metadata": {
        "id": "xHuB8Iwn9xv5"
      }
    },
    {
      "cell_type": "code",
      "source": [
        "new_review = 'I love this restaurant so much'\n",
        "new_review = re.sub('[^a-zA-Z]', ' ', new_review)\n",
        "new_review = new_review.lower()\n",
        "new_review = new_review.split()\n",
        "ps = PorterStemmer()\n",
        "all_stopwords = stopwords.words('english')\n",
        "all_stopwords.remove('not')\n",
        "new_review = [ps.stem(word) for word in new_review if not word in set(all_stopwords)]\n",
        "new_review = ' '.join(new_review)\n",
        "new_corpus = [new_review]\n",
        "new_X_test = cv.transform(new_corpus).toarray()\n",
        "new_y_pred = classifier.predict(new_X_test)\n",
        "print(new_y_pred)"
      ],
      "metadata": {
        "id": "C3DcJTBk96cX"
      },
      "execution_count": null,
      "outputs": []
    },
    {
      "cell_type": "markdown",
      "source": [
        "The review was correctly predicted as positive by our model."
      ],
      "metadata": {
        "id": "_y7wCbmw99n_"
      }
    },
    {
      "cell_type": "markdown",
      "source": [
        "###Negative review\n",
        "Use our model to predict if the following review:\n",
        "\n",
        "\"I hate this restaurant so much\"\n",
        "\n",
        "is positive or negative."
      ],
      "metadata": {
        "id": "qVvXelam-Af2"
      }
    },
    {
      "cell_type": "markdown",
      "source": [
        "Solution: We just repeat the same text preprocessing process we did before, but this time with a single review."
      ],
      "metadata": {
        "id": "OYlLUb6i-C8u"
      }
    },
    {
      "cell_type": "code",
      "source": [
        "new_review = 'I hate this restaurant so much'\n",
        "new_review = re.sub('[^a-zA-Z]', ' ', new_review)\n",
        "new_review = new_review.lower()\n",
        "new_review = new_review.split()\n",
        "ps = PorterStemmer()\n",
        "all_stopwords = stopwords.words('english')\n",
        "all_stopwords.remove('not')\n",
        "new_review = [ps.stem(word) for word in new_review if not word in set(all_stopwords)]\n",
        "new_review = ' '.join(new_review)\n",
        "new_corpus = [new_review]\n",
        "new_X_test = cv.transform(new_corpus).toarray()\n",
        "new_y_pred = classifier.predict(new_X_test)\n",
        "print(new_y_pred)"
      ],
      "metadata": {
        "colab": {
          "base_uri": "https://localhost:8080/"
        },
        "id": "pKYHLYTJ-I_H",
        "outputId": "fc160fee-ee71-43ff-d32a-343bd38076e5"
      },
      "execution_count": null,
      "outputs": [
        {
          "output_type": "stream",
          "name": "stdout",
          "text": [
            "[0]\n"
          ]
        }
      ]
    }
  ]
}